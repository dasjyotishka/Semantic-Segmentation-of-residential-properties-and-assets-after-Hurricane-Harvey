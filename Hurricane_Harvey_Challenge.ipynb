{
  "nbformat": 4,
  "nbformat_minor": 0,
  "metadata": {
    "colab": {
      "provenance": [],
      "include_colab_link": true
    },
    "kernelspec": {
      "name": "python3",
      "display_name": "Python 3"
    },
    "language_info": {
      "name": "python"
    },
    "accelerator": "GPU",
    "gpuClass": "standard"
  },
  "cells": [
    {
      "cell_type": "markdown",
      "metadata": {
        "id": "view-in-github",
        "colab_type": "text"
      },
      "source": [
        "<a href=\"https://colab.research.google.com/github/dasjyotishka/Semantic-Segmentation-of-residential-properties-and-assets-after-Hurricane-Harvey/blob/main/Hurricane_Harvey_Challenge.ipynb\" target=\"_parent\"><img src=\"https://colab.research.google.com/assets/colab-badge.svg\" alt=\"Open In Colab\"/></a>"
      ]
    },
    {
      "cell_type": "markdown",
      "source": [
        "# Hurricane Harvey Segmentation Challenge"
      ],
      "metadata": {
        "id": "7-gxKiD6K2ZR"
      }
    },
    {
      "cell_type": "markdown",
      "source": [
        "##Importing required libraries"
      ],
      "metadata": {
        "id": "10Hf9EaBAY7x"
      }
    },
    {
      "cell_type": "code",
      "execution_count": null,
      "metadata": {
        "id": "RPzmOfEd9cs8"
      },
      "outputs": [],
      "source": [
        "\"\"\"\n",
        "Created on Fri Jan 13 12:23:05 2023\n",
        "\n",
        "@author: Jyotishka Das and Hao Xu\n",
        "\"\"\"\n",
        "\n",
        "\n",
        "\n",
        "'''In the first section we are defining some modules that would be used in the execution phase'''\n",
        "\n",
        "\n",
        "from tqdm import tqdm\n",
        "import os\n",
        "import cv2\n",
        "import numpy as np\n",
        "from random import shuffle\n",
        "from sklearn.metrics import classification_report, confusion_matrix, accuracy_score\n",
        "from tensorflow import keras\n",
        "from PIL import Image, ImageOps\n",
        "from os import listdir , path\n",
        "from os.path import isfile, join\n",
        "from pathlib import Path\n",
        "import torch\n",
        "import torchvision\n",
        "from torchvision import transforms as T\n",
        "import glob\n",
        "from torch.utils.data.dataset import Dataset\n",
        "from torch.utils.data import DataLoader, random_split\n",
        "import torch.nn as nn\n",
        "import torch.nn.functional as F\n",
        "import torchvision.transforms.functional as TF\n",
        "import imageio\n",
        "!pip install -q -U segmentation-models-pytorch albumentations > /dev/null\n",
        "import segmentation_models_pytorch as smp\n",
        "import time\n",
        "import pandas as pd\n",
        "import matplotlib.pyplot as plt\n",
        "import os\n",
        "\n",
        "\n",
        "\n",
        "\n",
        "\n",
        "\n",
        "\n"
      ]
    },
    {
      "cell_type": "markdown",
      "source": [
        "##Pre-processing of the images"
      ],
      "metadata": {
        "id": "Ngq4AxmeAzyW"
      }
    },
    {
      "cell_type": "markdown",
      "source": [
        "The training images downloaded from the competition website are stored in folder called ***train_images***, and the corresponding masks are stored in a folder called train_masks. Two blank folders are also created in the same directory called test_images. Now, for every item in ***train_images***, we are checking whether its corresponding mask exits in ***train_mask***. If it does not exist, we move the image from ***train_images*** folder to the *test_images* folder."
      ],
      "metadata": {
        "id": "eJVErZ9YBJAX"
      }
    },
    {
      "cell_type": "code",
      "source": [
        "# Connect to google drive where we store the data\n",
        "from google.colab import drive\n",
        "drive.mount('/content/drive')"
      ],
      "metadata": {
        "colab": {
          "base_uri": "https://localhost:8080/"
        },
        "id": "GoN14UyqCbje",
        "outputId": "b185d4fb-11be-4ba9-cec4-9c8faf827304"
      },
      "execution_count": null,
      "outputs": [
        {
          "output_type": "stream",
          "name": "stdout",
          "text": [
            "Mounted at /content/drive\n"
          ]
        }
      ]
    },
    {
      "cell_type": "code",
      "source": [
        "# Check if gpu is connected\n",
        "gpu_info = !nvidia-smi\n",
        "gpu_info = '\\n'.join(gpu_info)\n",
        "if gpu_info.find('failed') >= 0:\n",
        "  print('Not connected to a GPU')\n",
        "else:\n",
        "  print(gpu_info)"
      ],
      "metadata": {
        "colab": {
          "base_uri": "https://localhost:8080/"
        },
        "id": "U6IrgmU6CkbD",
        "outputId": "540eb2a1-42c1-4dd0-ae0d-94c8887cc39a"
      },
      "execution_count": null,
      "outputs": [
        {
          "output_type": "stream",
          "name": "stdout",
          "text": [
            "Sun Jan 22 15:50:51 2023       \n",
            "+-----------------------------------------------------------------------------+\n",
            "| NVIDIA-SMI 460.32.03    Driver Version: 460.32.03    CUDA Version: 11.2     |\n",
            "|-------------------------------+----------------------+----------------------+\n",
            "| GPU  Name        Persistence-M| Bus-Id        Disp.A | Volatile Uncorr. ECC |\n",
            "| Fan  Temp  Perf  Pwr:Usage/Cap|         Memory-Usage | GPU-Util  Compute M. |\n",
            "|                               |                      |               MIG M. |\n",
            "|===============================+======================+======================|\n",
            "|   0  Tesla T4            Off  | 00000000:00:04.0 Off |                    0 |\n",
            "| N/A   43C    P0    26W /  70W |      0MiB / 15109MiB |      0%      Default |\n",
            "|                               |                      |                  N/A |\n",
            "+-------------------------------+----------------------+----------------------+\n",
            "                                                                               \n",
            "+-----------------------------------------------------------------------------+\n",
            "| Processes:                                                                  |\n",
            "|  GPU   GI   CI        PID   Type   Process name                  GPU Memory |\n",
            "|        ID   ID                                                   Usage      |\n",
            "|=============================================================================|\n",
            "|  No running processes found                                                 |\n",
            "+-----------------------------------------------------------------------------+\n"
          ]
        }
      ]
    },
    {
      "cell_type": "code",
      "source": [
        "IMG_SIZE = 320\n",
        "\n",
        "\n",
        "train_img_dir='/content/drive/MyDrive/FDL/Final_Submission/train_images'\n",
        "train_mask_dir='/content/drive/MyDrive/FDL/Final_Submission/train_masks'\n",
        "test_img_dir='/content/drive/MyDrive/FDL/Final_Submission/test_images'\n",
        "validation_img_dir='/content/drive/MyDrive/FDL/Final_Submission/val_images'\n",
        "validation_mask_dir='/content/drive/MyDrive/FDL/Final_Submission/val_masks'\n",
        "\n",
        "files_train_img_dir = [f for f in listdir(train_img_dir) if isfile(join(train_img_dir, f))]\n",
        "files_train_mask_dir = [f for f in listdir(train_mask_dir) if isfile(join(train_mask_dir, f))]\n",
        "files_test_img_dir = [f for f in listdir(test_img_dir) if isfile(join(test_img_dir, f))]\n",
        "files_validation_img_dir = [f for f in listdir(validation_img_dir) if isfile(join(test_img_dir, f))]\n",
        "files_validation_mask_dir = [f for f in listdir(validation_mask_dir) if isfile(join(test_img_dir, f))]\n",
        "\n",
        "transform_mask_resize = T.Resize((IMG_SIZE,IMG_SIZE), interpolation=Image.NEAREST)\n",
        "transform_toTensor = T.ToTensor()\n",
        "\n",
        "\n",
        "train_dataloader=[]\n",
        "val_dataloader=[]\n",
        ""
      ],
      "metadata": {
        "colab": {
          "base_uri": "https://localhost:8080/"
        },
        "id": "buGOwDf1AyAB",
        "outputId": "eb55a527-0711-4f2f-e33b-603bcff9c52c"
      },
      "execution_count": null,
      "outputs": [
        {
          "output_type": "stream",
          "name": "stderr",
          "text": [
            "/usr/local/lib/python3.8/dist-packages/torchvision/transforms/transforms.py:329: UserWarning: Argument 'interpolation' of type int is deprecated since 0.13 and will be removed in 0.15. Please use InterpolationMode enum.\n",
            "  warnings.warn(\n"
          ]
        }
      ]
    },
    {
      "cell_type": "code",
      "source": [
        "#Function to split the dataset into train and test datasets.\n",
        "def create_train_test_split ():\n",
        "\n",
        "\n",
        "    common_files = []\n",
        "    flag=0\n",
        "    for i in files_train_img_dir:\n",
        "        for j in files_train_mask_dir:\n",
        "            if(path.splitext(i)[0] == path.splitext(j)[0]): #this compares it name by name.\n",
        "                flag=1\n",
        "                common_files.append(i)\n",
        "        if (flag==0):\n",
        "            Path(train_img_dir+\"/\"+path.splitext(i)[0]+\".tif\").rename(test_img_dir+\"/\"+path.splitext(i)[0]+\".tif\")\n",
        "        flag=0\n",
        "    return 0\n",
        "\n",
        "\n",
        "create_train_test_split()"
      ],
      "metadata": {
        "colab": {
          "base_uri": "https://localhost:8080/"
        },
        "id": "EfwUMXq4Braj",
        "outputId": "f6bb1096-36b2-431d-d6fc-cbf5821abb99"
      },
      "execution_count": null,
      "outputs": [
        {
          "output_type": "execute_result",
          "data": {
            "text/plain": [
              "0"
            ]
          },
          "metadata": {},
          "execution_count": 6
        }
      ]
    },
    {
      "cell_type": "markdown",
      "source": [
        "Now, the ***train_images*** folder would contain 299 images and the ***test_images*** folder would contain 75 images. For training the model, we would need to further split the training dataset into train and validation dataset. So, we move 15% of the images (45 random images) and their corresponding masks from the training folders to the validation folders. Now, at this stage, the ***train_images*** and ***train_masks*** folders would contain 254 images, and the ***validation_images*** and ***validation_masks*** folders would contain 45 images. Create blank folders where the tensors would be stored and store the corresponding tensors in those folders. Iterate through all masks and images in train set, resize them, transform them into tensors and store them in the new folder"
      ],
      "metadata": {
        "id": "IEwrIjN3CEHF"
      }
    },
    {
      "cell_type": "code",
      "source": [
        "# Specify paths to your files (glob glob stores paths to all files in a folder in a list)\n",
        "\n",
        "train_img_link_list  = sorted(glob.glob('/content/drive/MyDrive/FDL/Final_Submission/train_images/*'))\n",
        "train_mask_link_list = sorted(glob.glob('/content/drive/MyDrive/FDL/Final_Submission/train_masks/*'))\n",
        "test_img_link_list   = sorted(glob.glob('/content/drive/MyDrive/FDL/Final_Submission/test_images/*'))\n",
        "validation_img_link_list = sorted(glob.glob('/content/drive/MyDrive/FDL/Final_Submission/val_images/*'))\n",
        "validation_mask_link_list = sorted(glob.glob('/content/drive/MyDrive/FDL/Final_Submission/val_masks/*'))"
      ],
      "metadata": {
        "id": "IWmpEEnyPrew"
      },
      "execution_count": null,
      "outputs": []
    },
    {
      "cell_type": "code",
      "source": [
        "import torch\n",
        "import torchvision\n",
        "from torchvision import transforms\n",
        "\n",
        "#Function to convert the images to tensors\n",
        "def convert_tensor ():\n",
        "\n",
        "  val_img_list=[]\n",
        "  val_img_list = [str(x) for x in val_img_list]\n",
        "\n",
        "  # Transformation pipeline\n",
        "  transform_img = transforms.Compose([\n",
        "      transforms.Resize([IMG_SIZE,IMG_SIZE]),\n",
        "      transforms.ToTensor()\n",
        "  ])\n",
        "\n",
        "  transform_mask = transforms.Compose([\n",
        "      transforms.Resize([IMG_SIZE,IMG_SIZE], interpolation=Image.NEAREST),\n",
        "      transforms.ToTensor()\n",
        "  ])\n",
        "\n",
        "  transform_mask_prova = transforms.Compose([\n",
        "      transforms.ToTensor()\n",
        "  ])\n",
        "\n",
        "  # Iterate through all masks and images in train set, transform them and store corresponging tensors in a new folder\n",
        "  for i in tqdm(range(len(train_img_link_list))):\n",
        "\n",
        "      img_id  = train_img_link_list[i].split('/')[-1].split('.')[0]\n",
        "      mask_id = train_mask_link_list[i].split('/')[-1].split('.')[0]\n",
        "      assert img_id == mask_id    # Make sure id's match\n",
        "\n",
        "      img   = Image.open(train_img_link_list[i])\n",
        "      mask  = Image.open(train_mask_link_list[i])\n",
        "\n",
        "      img  = transform_img(img)\n",
        "      mask = transform_mask(mask)*255\n",
        "      mask = mask.int()\n",
        "\n",
        "      torch.save(img,\"/content/drive/MyDrive/FDL/Final_Submission/train_images_\"+str(IMG_SIZE)+\"/\"+img_id+\".pt\")\n",
        "      torch.save(mask, \"/content/drive/MyDrive/FDL/Final_Submission/train_masks_\"+str(IMG_SIZE)+\"/\"+mask_id+\".pt\")\n",
        "\n",
        "\n",
        "  # Iterate through all masks and images in validation set, transform them and store corresponging tensors in a new folder\n",
        "  for i in tqdm(range(len(validation_img_link_list))):\n",
        "\n",
        "      img_id  = train_img_link_list[i].split('/')[-1].split('.')[0]\n",
        "      mask_id = train_mask_link_list[i].split('/')[-1].split('.')[0]\n",
        "      assert img_id == mask_id    # Make sure id's match\n",
        "\n",
        "      img   = Image.open(train_img_link_list[i])\n",
        "      mask  = Image.open(train_mask_link_list[i])\n",
        "\n",
        "      img  = transform_img(img)\n",
        "      mask = transform_mask(mask)*255\n",
        "      mask = mask.int()\n",
        "\n",
        "      torch.save(img,\"/content/drive/MyDrive/FDL/Final_Submission/val_images_\"+str(IMG_SIZE)+\"/\"+img_id+\".pt\")\n",
        "      torch.save(mask, \"/content/drive/MyDrive/FDL/Final_Submission/val_masks_\"+str(IMG_SIZE)+\"/\"+mask_id+\".pt\")\n",
        "\n",
        "  print('Train and Validation sets created')\n",
        "\n",
        "  # Iterate through all images in test set, transform them and store corresponging tensors in a new folder\n",
        "  for i in tqdm(range(len(test_img_link_list))):\n",
        "\n",
        "      img_id  = test_img_link_list[i].split('/')[-1].split('.')[0]\n",
        "\n",
        "      img   = Image.open(test_img_link_list[i])\n",
        "      img   = transform_img(img)\n",
        "\n",
        "      torch.save(img,\"/content/drive/MyDrive/FDL/Final_Submission/test_images_\"+str(IMG_SIZE)+\"/\"+img_id+\".pt\")\n",
        "\n",
        "\n",
        "  print('Test set created')\n",
        "\n",
        "\n",
        "\n",
        "\n",
        "convert_tensor()"
      ],
      "metadata": {
        "colab": {
          "base_uri": "https://localhost:8080/"
        },
        "id": "OiCUW74NB_Ff",
        "outputId": "096faf44-0d81-4361-8139-c4c7df5dda71"
      },
      "execution_count": null,
      "outputs": [
        {
          "output_type": "stream",
          "name": "stderr",
          "text": [
            "100%|██████████| 254/254 [01:23<00:00,  3.03it/s]\n",
            "100%|██████████| 45/45 [00:14<00:00,  3.07it/s]\n"
          ]
        },
        {
          "output_type": "stream",
          "name": "stdout",
          "text": [
            "Train and Validation sets created\n"
          ]
        },
        {
          "output_type": "stream",
          "name": "stderr",
          "text": [
            "100%|██████████| 75/75 [00:20<00:00,  3.64it/s]"
          ]
        },
        {
          "output_type": "stream",
          "name": "stdout",
          "text": [
            "Test set created\n"
          ]
        },
        {
          "output_type": "stream",
          "name": "stderr",
          "text": [
            "\n"
          ]
        }
      ]
    },
    {
      "cell_type": "markdown",
      "source": [
        "##Build a custom Dataloader"
      ],
      "metadata": {
        "id": "f8BpkWYqDKrz"
      }
    },
    {
      "cell_type": "markdown",
      "source": [
        "We load the image and the mask tensors. We then convert the grayscale mask tensors from the dimension [1, H, W] to [H, W] because the loss function accepts images in the form [B, H, W], where **B** is the batch-size, **H** is the height and **W** is the width of the images. After that, an ad-hoc transformation on the images are performed to improve the segmentation accuracy. If the images are too bright or too dark, then we scale its brightness.\n"
      ],
      "metadata": {
        "id": "oPEh8Kn3DrMQ"
      }
    },
    {
      "cell_type": "code",
      "source": [
        "BATCH_SIZE=10\n",
        "\n",
        "'''A class for Dataset is created'''\n",
        "\n",
        "class tensorDataset(Dataset):\n",
        "\n",
        "\n",
        "    def __init__(self, images:list, masks:list, train:bool):\n",
        "        self.image_links = images\n",
        "        self.mask_links  = masks\n",
        "        self.train = train\n",
        "\n",
        "\n",
        "    def __getitem__(self, index):\n",
        "\n",
        "        # Select the link to the specific image\n",
        "        img_id  = self.image_links[index]\n",
        "        mask_id = self.mask_links[index]\n",
        "\n",
        "        # Loading the image tensors\n",
        "        img  = torch.load(img_id)\n",
        "        mask = torch.load(mask_id)\n",
        "\n",
        "\n",
        "        # Convert the grayscale  mask tensors from the dimension [1, H, W] to [H, W] because the loss function accepts images in the form [B, H, W]\n",
        "        mask = mask.squeeze(0)\n",
        "\n",
        "        # Gradient is turned on for the image\n",
        "        img = img.detach().clone().requires_grad_(True)\n",
        "        mask = mask.long()\n",
        "\n",
        "        return img, mask\n",
        "\n",
        "\n",
        "    def __len__(self):\n",
        "        return len(self.image_links)\n",
        "\n",
        "\n",
        "    def transform(self, img, mask):\n",
        "\n",
        "        # If the images are too bright or too dark, scale its brightness\n",
        "        temp_rand = np.random.rand()\n",
        "        if temp_rand < 0.3:\n",
        "            t_darken_image = T.ColorJitter(brightness=[0.6, 0.8])\n",
        "            img = t_darken_image(img)\n",
        "\n",
        "        elif temp_rand > 0.7:\n",
        "            t_brighten_image = T.ColorJitter(brightness=[1.2, 1.4])\n",
        "            img = t_brighten_image(img)\n",
        "\n",
        "        return img, mask"
      ],
      "metadata": {
        "id": "ITIYz31kDOT4"
      },
      "execution_count": null,
      "outputs": []
    },
    {
      "cell_type": "code",
      "source": [
        "'''The train, test and validation datasets are created through DataLoaders'''\n",
        "\n",
        "list_train_img  = sorted(glob.glob('/content/drive/MyDrive/FDL/Final_Submission/train_images_320/*'))\n",
        "list_train_mask = sorted(glob.glob('/content/drive/MyDrive/FDL/Final_Submission/train_masks_320/*'))\n",
        "list_val_img    = sorted(glob.glob('/content/drive/MyDrive/FDL/Final_Submission/val_images_320/*'))\n",
        "list_val_mask   = sorted(glob.glob('/content/drive/MyDrive/FDL/Final_Submission/val_masks_320/*'))\n",
        "\n",
        "\n",
        "\n",
        "train_dataset = tensorDataset(list_train_img, list_train_mask, train=True)\n",
        "val_dataset   = tensorDataset(list_val_img, list_val_mask, train=False)\n",
        "\n",
        "train_dataloader = DataLoader(train_dataset, batch_size=BATCH_SIZE, shuffle=True)\n",
        "val_dataloader   = DataLoader(val_dataset  , batch_size=BATCH_SIZE, shuffle=False)\n",
        "\n"
      ],
      "metadata": {
        "id": "yMdbQeaLDT_9"
      },
      "execution_count": null,
      "outputs": []
    },
    {
      "cell_type": "markdown",
      "source": [
        "##Calculation of Dice-Score"
      ],
      "metadata": {
        "id": "t8p0AWNdEkpG"
      }
    },
    {
      "cell_type": "markdown",
      "source": [
        "The Dice score is used to calculate the accuracy of our segmentation.\n",
        "The Dice Coefficient is 2 x (the Area of Overlap divided by the total number of pixels in the test and the predicted masks)."
      ],
      "metadata": {
        "id": "FTPV7jIRErCM"
      }
    },
    {
      "cell_type": "code",
      "source": [
        "#A function to calculation the Dice scores of the segmented images.\n",
        "\n",
        "def calculate_dice_score(preds, true_mask):\n",
        "\n",
        "    f1_batch = []\n",
        "\n",
        "    for i in range(len(preds)):\n",
        "        f1_image = []\n",
        "        img  = preds[i].to(DEVICE)\n",
        "        mask = true_mask[i].to(DEVICE)\n",
        "\n",
        "        # The shape of the image tensor is changed from the dimension [26, H, W] to [H, W]\n",
        "        img = torch.argmax(img, dim=0)\n",
        "\n",
        "        for label in range(26):\n",
        "            if torch.sum(mask == label) != 0:\n",
        "                area_of_intersect = torch.sum((img == label) * (mask == label))\n",
        "                area_of_img       = torch.sum(img == label)\n",
        "                area_of_label     = torch.sum(mask == label)\n",
        "                f1 = 2*area_of_intersect / (area_of_img + area_of_label)\n",
        "                f1_image.append(f1)\n",
        "\n",
        "        f1_batch.append(np.mean([tensor.cpu() for tensor in f1_image]))\n",
        "    return np.mean(f1_batch)\n",
        "\n",
        "\n",
        "\n"
      ],
      "metadata": {
        "id": "TRGlgxyXE2jq"
      },
      "execution_count": null,
      "outputs": []
    },
    {
      "cell_type": "code",
      "source": [
        "# Accuracy\n",
        "def accuracy(preds, true_mask):\n",
        "    '''\n",
        "    preds should be [B, 25, H, W]\n",
        "    true_mask should be [B, H, W]\n",
        "    '''\n",
        "    accuracy_batch = []\n",
        "\n",
        "    for i in range(len(preds)):\n",
        "        img  = preds[i].to(DEVICE)\n",
        "        mask = true_mask[i].to(DEVICE)\n",
        "\n",
        "        # Change shape of img from [25, H, W] to [H, W]\n",
        "        img  = torch.argmax(img, dim=0)\n",
        "\n",
        "        accuracy_batch.append(torch.sum(img == mask).item() / (IMG_SIZE*IMG_SIZE))  # FIX LATER\n",
        "\n",
        "    return np.mean(accuracy_batch)"
      ],
      "metadata": {
        "id": "9PFx2ooTXAfI"
      },
      "execution_count": null,
      "outputs": []
    },
    {
      "cell_type": "markdown",
      "source": [
        "##Training the model"
      ],
      "metadata": {
        "id": "abwOjBGJFlHi"
      }
    },
    {
      "cell_type": "code",
      "source": [
        "'''A function to train the model. If at any step the f1_score obtained is greater than 0.3, the model\n",
        "is saved in a directory folder.'''\n",
        "def train():\n",
        "\n",
        "  min_val_f1 = 0.3\n",
        "\n",
        "  for epoch in range(1, Epochs):\n",
        "\n",
        "      # Define evaluation metrics\n",
        "      model.train()\n",
        "      train_losses   = []\n",
        "      train_accuracy = []\n",
        "      train_f1       = []\n",
        "\n",
        "      for i, batch in enumerate(train_dataloader):\n",
        "\n",
        "          '''Extract the data and the corresponding masks.\n",
        "          A batch of B color images of the size 512x512 are stored in a 4D-tensor of shape\n",
        "          [B,3,H,W], while a batch of B grayscale masks of the size 512x512 are\n",
        "          in the shape [B,H,W]'''\n",
        "          img_batch, mask_batch = batch\n",
        "          img_batch = img_batch.to(DEVICE)\n",
        "          mask_batch = mask_batch.to(DEVICE)\n",
        "\n",
        "          '''Train the model.'''\n",
        "          optimizer.zero_grad()\n",
        "\n",
        "          '''The output masks should be one-hot encoded\n",
        "          for every 26 output classes and would have a shape of [B, 26, H, W].\n",
        "          This is because the loss function only takes input in this format.\n",
        "          Ref: https://www.jeremyjordan.me/semantic-segmentation/'''\n",
        "          output = model(img_batch)\n",
        "          loss   = criterion(output, mask_batch)\n",
        "          loss.backward()\n",
        "          optimizer.step()\n",
        "\n",
        "          #After 1 epoch, add the loss to the list list\n",
        "          f1 = calculate_dice_score(output, mask_batch)\n",
        "          acc = accuracy(output, mask_batch)\n",
        "          train_losses.append(loss.item())\n",
        "          train_accuracy.append(acc)\n",
        "          train_f1.append(f1)\n",
        "\n",
        "\n",
        "      # Update the global metrics\n",
        "      print(f'TRAIN       Epoch: {epoch} | Epoch metrics | loss: {np.mean(train_losses):.4f}, f1: {np.mean(train_f1):.3f}, accuracy: {np.mean(train_accuracy):.3f}')\n",
        "      total_train_losses.append(np.mean(train_losses))\n",
        "      total_train_accuracy.append(np.mean(train_accuracy))\n",
        "      total_train_f1.append(np.mean(train_f1))\n",
        "\n",
        "\n",
        "      # Define the validate metrics\n",
        "      model.eval()\n",
        "      val_losses   = []\n",
        "      val_accuracy = []\n",
        "      val_f1       = []\n",
        "\n",
        "      for i, batch in enumerate(val_dataloader):\n",
        "          #Extract the images and the corresponding masks\n",
        "          img_batch, mask_batch = batch\n",
        "          img_batch = img_batch.to(DEVICE)\n",
        "          mask_batch = mask_batch.to(DEVICE)\n",
        "\n",
        "          #Validate model\n",
        "          with torch.cuda.amp.autocast():\n",
        "            output = model(img_batch)\n",
        "            loss   = criterion(output, mask_batch)\n",
        "\n",
        "           #After 1 epoch, add the loss to the list list\n",
        "          f1 = calculate_dice_score(output, mask_batch)\n",
        "          acc = accuracy(output, mask_batch)\n",
        "          val_losses.append(loss.item())\n",
        "          val_accuracy.append(acc)\n",
        "          val_f1.append(f1)\n",
        "\n",
        "\n",
        "\n",
        "      # Print the updated global metrics\n",
        "      print(f'VALIDATION  Epoch: {epoch} | Epoch metrics | loss: {np.mean(val_losses):.4f}, f1: {np.mean(val_f1):.3f}, accuracy: {np.mean(val_accuracy):.3f}')\n",
        "      print('---------------------------------------------------------------------------------')\n",
        "      total_val_losses.append(np.mean(val_losses))\n",
        "      total_val_accuracy.append(np.mean(val_accuracy))\n",
        "      total_val_f1.append(np.mean(val_f1))\n",
        "\n",
        "\n",
        "      # Save the model\n",
        "      if np.mean(val_f1) > min_val_f1:\n",
        "        torch.save(model.state_dict(), \"/content/drive/MyDrive/FDL/Final_Submission/models/RESNET101-ImageNet-DeepLabV3/DeepNet_res101_SI320_EP\"+str(epoch)+\"_LR001.pt\")\n",
        "        min_val_f1 = np.mean(val_f1)\n",
        "\n",
        "      # Save the results so far\n",
        "      temp_df = pd.DataFrame(list(zip(total_train_losses, total_val_losses, total_train_f1, total_val_f1,\n",
        "                                    total_train_accuracy, total_val_accuracy)),\n",
        "                            columns = ['train_loss', 'val_loss', 'train_f1', 'test_f1', 'train_accuracy',\n",
        "                                      'test_accuracy'])\n",
        "      temp_df.to_csv('train_val_measures')"
      ],
      "metadata": {
        "id": "VjsYL6FpFfIj"
      },
      "execution_count": null,
      "outputs": []
    },
    {
      "cell_type": "markdown",
      "source": [
        "We have used a DeepLabv3+ architecture to train our semantic segmentation model. The DeepLabv3+ is a semantic segmentation architecture that improves upon DeepLabv3 with several improvements, such as adding a simple yet effective decoder module to cachieve an encoder-decoder structure. The encoder module processes multiscale contextual information by applying dilated convolution at multiple scales, while the decoder module refines the segmentation results along object boundaries.cA resnet101 architecture was found to be the best encoder for the current segmentation challenge,and it has been pretrained on the imagenet dataset."
      ],
      "metadata": {
        "id": "m6mYzqcQFxgI"
      }
    },
    {
      "cell_type": "code",
      "source": [
        "# Initialization of the model and the hyperparameters.\n",
        "DEVICE = \"cuda\" if torch.cuda.is_available() else \"cpu\"\n",
        "\n",
        "\n",
        "\n",
        "model = smp.DeepLabV3Plus(\n",
        "     encoder_name = 'resnet101',\n",
        "     encoder_weights = 'imagenet',\n",
        "     classes = 27,\n",
        "     activation = None,\n",
        " ).to(DEVICE)\n",
        "\n",
        "\n",
        "\n",
        "total_train_losses   = []\n",
        "total_val_losses     = []\n",
        "total_train_accuracy = []\n",
        "total_val_accuracy   = []\n",
        "total_train_f1       = []\n",
        "total_val_f1         = []"
      ],
      "metadata": {
        "id": "BO5DLcAyFvg-"
      },
      "execution_count": null,
      "outputs": []
    },
    {
      "cell_type": "code",
      "source": [
        "# Data preparation Hyperparameters\n",
        "Epochs = 50\n",
        "LR = 0.0001\n",
        "optimizer = torch.optim.Adam(model.parameters(), lr=LR)\n",
        "criterion = nn.CrossEntropyLoss().to(DEVICE)\n",
        "\n",
        "train()"
      ],
      "metadata": {
        "colab": {
          "base_uri": "https://localhost:8080/"
        },
        "id": "sWvb7HlwGB1g",
        "outputId": "2bac3795-ab89-4530-ae01-129aa8703f21"
      },
      "execution_count": null,
      "outputs": [
        {
          "output_type": "stream",
          "name": "stdout",
          "text": [
            "TRAIN       Epoch: 1 | Epoch metrics | loss: 1.2518, f1: 0.320, accuracy: 0.708\n",
            "VALIDATION  Epoch: 1 | Epoch metrics | loss: 1.1164, f1: 0.328, accuracy: 0.744\n",
            "---------------------------------------------------------------------------------\n",
            "TRAIN       Epoch: 2 | Epoch metrics | loss: 1.0473, f1: 0.355, accuracy: 0.741\n",
            "VALIDATION  Epoch: 2 | Epoch metrics | loss: 0.9066, f1: 0.346, accuracy: 0.770\n",
            "---------------------------------------------------------------------------------\n",
            "TRAIN       Epoch: 3 | Epoch metrics | loss: 0.9101, f1: 0.378, accuracy: 0.767\n",
            "VALIDATION  Epoch: 3 | Epoch metrics | loss: 0.8158, f1: 0.353, accuracy: 0.784\n",
            "---------------------------------------------------------------------------------\n",
            "TRAIN       Epoch: 4 | Epoch metrics | loss: 0.7951, f1: 0.395, accuracy: 0.792\n",
            "VALIDATION  Epoch: 4 | Epoch metrics | loss: 0.6990, f1: 0.373, accuracy: 0.814\n",
            "---------------------------------------------------------------------------------\n",
            "TRAIN       Epoch: 5 | Epoch metrics | loss: 0.7195, f1: 0.414, accuracy: 0.810\n",
            "VALIDATION  Epoch: 5 | Epoch metrics | loss: 0.6425, f1: 0.386, accuracy: 0.822\n",
            "---------------------------------------------------------------------------------\n",
            "TRAIN       Epoch: 6 | Epoch metrics | loss: 0.6471, f1: 0.422, accuracy: 0.827\n",
            "VALIDATION  Epoch: 6 | Epoch metrics | loss: 0.6198, f1: 0.390, accuracy: 0.824\n",
            "---------------------------------------------------------------------------------\n",
            "TRAIN       Epoch: 7 | Epoch metrics | loss: 0.6261, f1: 0.429, accuracy: 0.828\n",
            "VALIDATION  Epoch: 7 | Epoch metrics | loss: 0.5730, f1: 0.395, accuracy: 0.836\n",
            "---------------------------------------------------------------------------------\n",
            "TRAIN       Epoch: 8 | Epoch metrics | loss: 0.6108, f1: 0.437, accuracy: 0.833\n",
            "VALIDATION  Epoch: 8 | Epoch metrics | loss: 0.5719, f1: 0.391, accuracy: 0.832\n",
            "---------------------------------------------------------------------------------\n",
            "TRAIN       Epoch: 9 | Epoch metrics | loss: 0.5815, f1: 0.438, accuracy: 0.836\n",
            "VALIDATION  Epoch: 9 | Epoch metrics | loss: 0.5296, f1: 0.404, accuracy: 0.845\n",
            "---------------------------------------------------------------------------------\n",
            "TRAIN       Epoch: 10 | Epoch metrics | loss: 0.5371, f1: 0.448, accuracy: 0.846\n",
            "VALIDATION  Epoch: 10 | Epoch metrics | loss: 0.5134, f1: 0.413, accuracy: 0.848\n",
            "---------------------------------------------------------------------------------\n",
            "TRAIN       Epoch: 11 | Epoch metrics | loss: 0.5136, f1: 0.453, accuracy: 0.849\n",
            "VALIDATION  Epoch: 11 | Epoch metrics | loss: 0.4772, f1: 0.416, accuracy: 0.855\n",
            "---------------------------------------------------------------------------------\n",
            "TRAIN       Epoch: 12 | Epoch metrics | loss: 0.5148, f1: 0.455, accuracy: 0.847\n",
            "VALIDATION  Epoch: 12 | Epoch metrics | loss: 0.4777, f1: 0.419, accuracy: 0.857\n",
            "---------------------------------------------------------------------------------\n",
            "TRAIN       Epoch: 13 | Epoch metrics | loss: 0.4752, f1: 0.463, accuracy: 0.859\n",
            "VALIDATION  Epoch: 13 | Epoch metrics | loss: 0.4449, f1: 0.435, accuracy: 0.864\n",
            "---------------------------------------------------------------------------------\n",
            "TRAIN       Epoch: 14 | Epoch metrics | loss: 0.4562, f1: 0.477, accuracy: 0.865\n",
            "VALIDATION  Epoch: 14 | Epoch metrics | loss: 0.4222, f1: 0.446, accuracy: 0.869\n",
            "---------------------------------------------------------------------------------\n",
            "TRAIN       Epoch: 15 | Epoch metrics | loss: 0.4213, f1: 0.489, accuracy: 0.874\n",
            "VALIDATION  Epoch: 15 | Epoch metrics | loss: 0.3969, f1: 0.458, accuracy: 0.876\n",
            "---------------------------------------------------------------------------------\n",
            "TRAIN       Epoch: 16 | Epoch metrics | loss: 0.4098, f1: 0.490, accuracy: 0.876\n",
            "VALIDATION  Epoch: 16 | Epoch metrics | loss: 0.3857, f1: 0.462, accuracy: 0.879\n",
            "---------------------------------------------------------------------------------\n",
            "TRAIN       Epoch: 17 | Epoch metrics | loss: 0.3944, f1: 0.497, accuracy: 0.880\n",
            "VALIDATION  Epoch: 17 | Epoch metrics | loss: 0.3656, f1: 0.474, accuracy: 0.884\n",
            "---------------------------------------------------------------------------------\n",
            "TRAIN       Epoch: 18 | Epoch metrics | loss: 0.3779, f1: 0.503, accuracy: 0.884\n",
            "VALIDATION  Epoch: 18 | Epoch metrics | loss: 0.3564, f1: 0.476, accuracy: 0.885\n",
            "---------------------------------------------------------------------------------\n",
            "TRAIN       Epoch: 19 | Epoch metrics | loss: 0.3604, f1: 0.510, accuracy: 0.888\n",
            "VALIDATION  Epoch: 19 | Epoch metrics | loss: 0.3431, f1: 0.485, accuracy: 0.888\n",
            "---------------------------------------------------------------------------------\n",
            "TRAIN       Epoch: 20 | Epoch metrics | loss: 0.3824, f1: 0.510, accuracy: 0.882\n",
            "VALIDATION  Epoch: 20 | Epoch metrics | loss: 0.3558, f1: 0.483, accuracy: 0.884\n",
            "---------------------------------------------------------------------------------\n",
            "TRAIN       Epoch: 21 | Epoch metrics | loss: 0.3725, f1: 0.511, accuracy: 0.882\n",
            "VALIDATION  Epoch: 21 | Epoch metrics | loss: 0.3575, f1: 0.472, accuracy: 0.882\n",
            "---------------------------------------------------------------------------------\n",
            "TRAIN       Epoch: 22 | Epoch metrics | loss: 0.3537, f1: 0.518, accuracy: 0.887\n",
            "VALIDATION  Epoch: 22 | Epoch metrics | loss: 0.3386, f1: 0.497, accuracy: 0.888\n",
            "---------------------------------------------------------------------------------\n",
            "TRAIN       Epoch: 23 | Epoch metrics | loss: 0.3397, f1: 0.524, accuracy: 0.892\n",
            "VALIDATION  Epoch: 23 | Epoch metrics | loss: 0.3186, f1: 0.502, accuracy: 0.894\n",
            "---------------------------------------------------------------------------------\n",
            "TRAIN       Epoch: 24 | Epoch metrics | loss: 0.3280, f1: 0.532, accuracy: 0.896\n",
            "VALIDATION  Epoch: 24 | Epoch metrics | loss: 0.3102, f1: 0.510, accuracy: 0.896\n",
            "---------------------------------------------------------------------------------\n",
            "TRAIN       Epoch: 25 | Epoch metrics | loss: 0.3109, f1: 0.539, accuracy: 0.900\n",
            "VALIDATION  Epoch: 25 | Epoch metrics | loss: 0.2984, f1: 0.508, accuracy: 0.900\n",
            "---------------------------------------------------------------------------------\n",
            "TRAIN       Epoch: 26 | Epoch metrics | loss: 0.3001, f1: 0.546, accuracy: 0.903\n",
            "VALIDATION  Epoch: 26 | Epoch metrics | loss: 0.2897, f1: 0.523, accuracy: 0.902\n",
            "---------------------------------------------------------------------------------\n",
            "TRAIN       Epoch: 27 | Epoch metrics | loss: 0.2876, f1: 0.555, accuracy: 0.906\n",
            "VALIDATION  Epoch: 27 | Epoch metrics | loss: 0.2814, f1: 0.522, accuracy: 0.904\n",
            "---------------------------------------------------------------------------------\n",
            "TRAIN       Epoch: 28 | Epoch metrics | loss: 0.2829, f1: 0.557, accuracy: 0.907\n",
            "VALIDATION  Epoch: 28 | Epoch metrics | loss: 0.2783, f1: 0.536, accuracy: 0.905\n",
            "---------------------------------------------------------------------------------\n",
            "TRAIN       Epoch: 29 | Epoch metrics | loss: 0.2800, f1: 0.563, accuracy: 0.909\n",
            "VALIDATION  Epoch: 29 | Epoch metrics | loss: 0.2660, f1: 0.547, accuracy: 0.910\n",
            "---------------------------------------------------------------------------------\n",
            "TRAIN       Epoch: 30 | Epoch metrics | loss: 0.2752, f1: 0.566, accuracy: 0.910\n",
            "VALIDATION  Epoch: 30 | Epoch metrics | loss: 0.2627, f1: 0.555, accuracy: 0.911\n",
            "---------------------------------------------------------------------------------\n",
            "TRAIN       Epoch: 31 | Epoch metrics | loss: 0.2703, f1: 0.568, accuracy: 0.911\n",
            "VALIDATION  Epoch: 31 | Epoch metrics | loss: 0.2553, f1: 0.560, accuracy: 0.913\n",
            "---------------------------------------------------------------------------------\n",
            "TRAIN       Epoch: 32 | Epoch metrics | loss: 0.2712, f1: 0.571, accuracy: 0.911\n",
            "VALIDATION  Epoch: 32 | Epoch metrics | loss: 0.2501, f1: 0.565, accuracy: 0.914\n",
            "---------------------------------------------------------------------------------\n",
            "TRAIN       Epoch: 33 | Epoch metrics | loss: 0.2672, f1: 0.572, accuracy: 0.912\n",
            "VALIDATION  Epoch: 33 | Epoch metrics | loss: 0.2530, f1: 0.561, accuracy: 0.912\n",
            "---------------------------------------------------------------------------------\n",
            "TRAIN       Epoch: 34 | Epoch metrics | loss: 0.2543, f1: 0.582, accuracy: 0.916\n",
            "VALIDATION  Epoch: 34 | Epoch metrics | loss: 0.2420, f1: 0.572, accuracy: 0.916\n",
            "---------------------------------------------------------------------------------\n",
            "TRAIN       Epoch: 35 | Epoch metrics | loss: 0.2572, f1: 0.581, accuracy: 0.914\n",
            "VALIDATION  Epoch: 35 | Epoch metrics | loss: 0.2537, f1: 0.569, accuracy: 0.911\n",
            "---------------------------------------------------------------------------------\n",
            "TRAIN       Epoch: 36 | Epoch metrics | loss: 0.2573, f1: 0.581, accuracy: 0.914\n",
            "VALIDATION  Epoch: 36 | Epoch metrics | loss: 0.2380, f1: 0.570, accuracy: 0.917\n",
            "---------------------------------------------------------------------------------\n",
            "TRAIN       Epoch: 37 | Epoch metrics | loss: 0.2471, f1: 0.586, accuracy: 0.916\n",
            "VALIDATION  Epoch: 37 | Epoch metrics | loss: 0.2314, f1: 0.577, accuracy: 0.919\n",
            "---------------------------------------------------------------------------------\n",
            "TRAIN       Epoch: 38 | Epoch metrics | loss: 0.2380, f1: 0.597, accuracy: 0.920\n",
            "VALIDATION  Epoch: 38 | Epoch metrics | loss: 0.2255, f1: 0.584, accuracy: 0.921\n",
            "---------------------------------------------------------------------------------\n",
            "TRAIN       Epoch: 39 | Epoch metrics | loss: 0.2338, f1: 0.598, accuracy: 0.921\n",
            "VALIDATION  Epoch: 39 | Epoch metrics | loss: 0.2270, f1: 0.583, accuracy: 0.920\n",
            "---------------------------------------------------------------------------------\n",
            "TRAIN       Epoch: 40 | Epoch metrics | loss: 0.2373, f1: 0.597, accuracy: 0.920\n",
            "VALIDATION  Epoch: 40 | Epoch metrics | loss: 0.2296, f1: 0.575, accuracy: 0.919\n",
            "---------------------------------------------------------------------------------\n",
            "TRAIN       Epoch: 41 | Epoch metrics | loss: 0.2310, f1: 0.600, accuracy: 0.922\n",
            "VALIDATION  Epoch: 41 | Epoch metrics | loss: 0.2225, f1: 0.593, accuracy: 0.921\n",
            "---------------------------------------------------------------------------------\n",
            "TRAIN       Epoch: 42 | Epoch metrics | loss: 0.2234, f1: 0.603, accuracy: 0.923\n",
            "VALIDATION  Epoch: 42 | Epoch metrics | loss: 0.2155, f1: 0.594, accuracy: 0.924\n",
            "---------------------------------------------------------------------------------\n",
            "TRAIN       Epoch: 43 | Epoch metrics | loss: 0.2208, f1: 0.607, accuracy: 0.924\n",
            "VALIDATION  Epoch: 43 | Epoch metrics | loss: 0.2075, f1: 0.595, accuracy: 0.926\n",
            "---------------------------------------------------------------------------------\n",
            "TRAIN       Epoch: 44 | Epoch metrics | loss: 0.2172, f1: 0.613, accuracy: 0.926\n",
            "VALIDATION  Epoch: 44 | Epoch metrics | loss: 0.2086, f1: 0.608, accuracy: 0.926\n",
            "---------------------------------------------------------------------------------\n",
            "TRAIN       Epoch: 45 | Epoch metrics | loss: 0.2148, f1: 0.613, accuracy: 0.926\n",
            "VALIDATION  Epoch: 45 | Epoch metrics | loss: 0.2015, f1: 0.607, accuracy: 0.929\n",
            "---------------------------------------------------------------------------------\n",
            "TRAIN       Epoch: 46 | Epoch metrics | loss: 0.2132, f1: 0.620, accuracy: 0.926\n",
            "VALIDATION  Epoch: 46 | Epoch metrics | loss: 0.2003, f1: 0.617, accuracy: 0.929\n",
            "---------------------------------------------------------------------------------\n",
            "TRAIN       Epoch: 47 | Epoch metrics | loss: 0.2194, f1: 0.617, accuracy: 0.924\n",
            "VALIDATION  Epoch: 47 | Epoch metrics | loss: 0.2412, f1: 0.603, accuracy: 0.916\n",
            "---------------------------------------------------------------------------------\n",
            "TRAIN       Epoch: 48 | Epoch metrics | loss: 0.2362, f1: 0.612, accuracy: 0.921\n",
            "VALIDATION  Epoch: 48 | Epoch metrics | loss: 0.2233, f1: 0.605, accuracy: 0.921\n",
            "---------------------------------------------------------------------------------\n",
            "TRAIN       Epoch: 49 | Epoch metrics | loss: 0.2199, f1: 0.613, accuracy: 0.924\n",
            "VALIDATION  Epoch: 49 | Epoch metrics | loss: 0.2134, f1: 0.600, accuracy: 0.923\n",
            "---------------------------------------------------------------------------------\n"
          ]
        }
      ]
    },
    {
      "cell_type": "code",
      "source": [
        "#Plot the train-loss and validation-loss graph\n",
        "plt.figure(figsize=(10,8))\n",
        "plt.plot(list(range(len(total_train_losses)+1))[:49], total_train_losses[:49])\n",
        "plt.plot(list(range(len(total_train_losses)+1))[:49], total_val_losses[:49])\n",
        "plt.legend(['train loss', 'val loss', 'val f1'])\n",
        "plt.xlabel('Epochs')\n",
        "plt.ylabel('Loss')\n",
        "plt.show()"
      ],
      "metadata": {
        "colab": {
          "base_uri": "https://localhost:8080/",
          "height": 498
        },
        "id": "J1JX5a9JGCim",
        "outputId": "89f7029e-9381-42a9-b513-4133c4e620c7"
      },
      "execution_count": null,
      "outputs": [
        {
          "output_type": "display_data",
          "data": {
            "text/plain": [
              "<Figure size 720x576 with 1 Axes>"
            ],
            "image/png": "[encoded data removed]"
          },
          "metadata": {
            "needs_background": "light"
          }
        }
      ]
    },
    {
      "cell_type": "markdown",
      "source": [
        "##Prediction of masks for test images"
      ],
      "metadata": {
        "id": "Ezk2rbNpFHxz"
      }
    },
    {
      "cell_type": "markdown",
      "source": [
        "Load the model for which we want to generate prediction masks and generate the masks. We selected the model saved at epoch 46 because it gave the highest validation accuracy (92.9%)"
      ],
      "metadata": {
        "id": "ch3AAElSGiZ_"
      }
    },
    {
      "cell_type": "code",
      "source": [
        "model = smp.DeepLabV3Plus(\n",
        "     encoder_name = 'resnet101',\n",
        "     encoder_weights = 'imagenet',\n",
        "     classes = 27,\n",
        "     activation = None,\n",
        " )\n",
        "\n",
        "model.load_state_dict(torch.load('/content/drive/MyDrive/FDL/Final_Submission/models/RESNET101-ImageNet-DeepLabV3/DeepNet_res101_SI320_EP26_LR001.pt'))"
      ],
      "metadata": {
        "colab": {
          "base_uri": "https://localhost:8080/"
        },
        "id": "IfaWJR5eGZBJ",
        "outputId": "ff00f2a9-ca31-4f9a-f683-b6a20dfb5465"
      },
      "execution_count": null,
      "outputs": [
        {
          "output_type": "execute_result",
          "data": {
            "text/plain": [
              "<All keys matched successfully>"
            ]
          },
          "metadata": {},
          "execution_count": 80
        }
      ]
    },
    {
      "cell_type": "markdown",
      "source": [
        "Generate the prediction masks and resize the mask sizes to that of their corresponding image size before submission."
      ],
      "metadata": {
        "id": "7azSuojqGNx0"
      }
    },
    {
      "cell_type": "code",
      "source": [
        "'''Function to predict the masks of the test images'''\n",
        "def predict_masks():\n",
        "    test_img_link_list = sorted(glob.glob('/content/drive/MyDrive/FDL/Final_Submission/test_images_320/*'))\n",
        "    torch_list = [torch.load(link) for link in test_img_link_list]\n",
        "    model.eval()\n",
        "    import tqdm\n",
        "    # Calculate output for each image in test set and save the prediction in new test_preds folder\n",
        "    for i in tqdm.tqdm(range(len(torch_list))):\n",
        "      img_id = test_img_link_list[i].split('/')[-1].split('.')[0]\n",
        "      img = torch_list[i].unsqueeze(0)\n",
        "      output = model(img)\n",
        "      output = torch.argmax(output, dim=1).squeeze(0)\n",
        "      output = np.uint8(output)\n",
        "      output = Image.fromarray(output)\n",
        "      output.save(\"/content/drive/MyDrive/FDL/Final_Submission/test_preds/\"+str(img_id)+\".png\")\n",
        "\n",
        "predict_masks()\n",
        "\n",
        ""
      ],
      "metadata": {
        "colab": {
          "base_uri": "https://localhost:8080/"
        },
        "id": "b0jRi_jmFNa7",
        "outputId": "e6c4a805-c1c8-437b-8489-cb46482f4c87"
      },
      "execution_count": null,
      "outputs": [
        {
          "output_type": "stream",
          "name": "stderr",
          "text": [
            "100%|██████████| 75/75 [00:55<00:00,  1.35it/s]\n"
          ]
        }
      ]
    },
    {
      "cell_type": "code",
      "source": [
        "\n",
        "'''The masks obtained are of the size 512x512. We need to resize the sizes masks to that of the corresponding images'''\n",
        "def resize_images():\n",
        "    directory_resize=sorted(glob.glob('/content/drive/MyDrive/FDL/Final_Submission/test_preds/*'))\n",
        "    pred_names=[]\n",
        "    for numbers in directory_resize:\n",
        "      pred_names.append(numbers.split('/')[-1].split('.')[0])\n",
        "    for name_img in tqdm(pred_names):\n",
        "      raw = cv2.imread(\"/content/drive/MyDrive/FDL/Final_Submission/test_images/\"+str(name_img)+\".tif\")\n",
        "      shape = (raw.shape[1], raw.shape[0])\n",
        "      image_read = cv2.imread(\"/content/drive/MyDrive/FDL/Final_Submission/test_preds/\"+str(name_img)+\".png\", -1)\n",
        "      image_read = cv2.resize(image_read, shape, interpolation = cv2.INTER_NEAREST)\n",
        "      cv2.imwrite(\"/content/drive/MyDrive/FDL/Final_Submission/test_preds_resized/\"+str(name_img)+\".png\", image_read)\n",
        "\n",
        "resize_images()\n"
      ],
      "metadata": {
        "colab": {
          "base_uri": "https://localhost:8080/"
        },
        "id": "vuwlqcWGGwxG",
        "outputId": "8699d672-f758-4f55-f8e1-b48d96014ea2"
      },
      "execution_count": null,
      "outputs": [
        {
          "output_type": "stream",
          "name": "stderr",
          "text": [
            "100%|██████████| 75/75 [00:17<00:00,  4.26it/s]\n"
          ]
        }
      ]
    },
    {
      "cell_type": "code",
      "source": [
        "'''Submission of tar file'''\n",
        "def submission():\n",
        "    import tarfile\n",
        "\n",
        "    tar = tarfile.open(\"DeepLabV3-Epoch-LR0001.tar\", \"w\")\n",
        "\n",
        "    for root, dir, files in os.walk('/content/drive/MyDrive/FDL/Final_Submission/test_preds_resized'):\n",
        "        for  file in files:\n",
        "            fullpath = os.path.join(root, file)\n",
        "            tar.add(fullpath, arcname=file)\n",
        "\n",
        "    tar.close()\n",
        "\n",
        "submission()\n"
      ],
      "metadata": {
        "id": "ha2eICzNG0U_"
      },
      "execution_count": null,
      "outputs": []
    }
  ]
}